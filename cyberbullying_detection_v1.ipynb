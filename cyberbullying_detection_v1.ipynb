{
  "nbformat": 4,
  "nbformat_minor": 0,
  "metadata": {
    "kernelspec": {
      "language": "python",
      "display_name": "Python 3",
      "name": "python3"
    },
    "language_info": {
      "pygments_lexer": "ipython3",
      "nbconvert_exporter": "python",
      "version": "3.6.4",
      "file_extension": ".py",
      "codemirror_mode": {
        "name": "ipython",
        "version": 3
      },
      "name": "python",
      "mimetype": "text/x-python"
    },
    "colab": {
      "name": "cyberbullying-detection-v1.ipynb",
      "private_outputs": true,
      "provenance": [],
      "collapsed_sections": []
    },
    "accelerator": "GPU"
  },
  "cells": [
    {
      "cell_type": "code",
      "metadata": {
        "id": "3_yQURQ2sNiE"
      },
      "source": [
        "# This cell is nessesary only if you excutes the model in google colab\r\n",
        "# Otherways comment it\r\n",
        "!pip uninstall -y kaggle\r\n",
        "!pip install kaggle==1.5.6\r\n",
        "%env KAGGLE_USERNAME = bassamsabber\r\n",
        "%env KAGGLE_KEY = 717678f8ebfb53d84e9c47444c275871\r\n",
        "!kaggle competitions download -c jigsaw-toxic-comment-classification-challenge\r\n",
        "!unzip jigsaw-toxic-comment-classification-challenge\r\n",
        "!unzip test.csv\r\n",
        "!unzip train.csv"
      ],
      "execution_count": null,
      "outputs": []
    },
    {
      "cell_type": "code",
      "metadata": {
        "trusted": true,
        "id": "acUk4ECBrRDl"
      },
      "source": [
        "import numpy as np\n",
        "import pandas as pd\n",
        "\n",
        "from keras.models import Model, Sequential\n",
        "from keras.layers import Dense,Embedding, Input, Activation\n",
        "from keras.layers import LSTM, Bidirectional, GlobalMaxPool1D, Dropout\n",
        "from keras.preprocessing.text import Tokenizer\n",
        "from keras.preprocessing.sequence import pad_sequences\n",
        "from keras import initializers, optimizers, layers\n",
        "from sklearn.metrics import roc_auc_score\n"
      ],
      "execution_count": null,
      "outputs": []
    },
    {
      "cell_type": "code",
      "metadata": {
        "trusted": true,
        "id": "D1PR8seJrRDt"
      },
      "source": [
        "# importing data if using colab\n",
        "train = pd.read_csv('/content/train.csv')\n",
        "test = pd.read_csv('/content/test.csv')\n",
        "#train.head()\n",
        "#test.head()\n",
        "#train['comment_text'][0]"
      ],
      "execution_count": null,
      "outputs": []
    },
    {
      "cell_type": "code",
      "metadata": {
        "trusted": true,
        "id": "4t4_CmFPrRD0"
      },
      "source": [
        "classes = [\"toxic\", \"severe_toxic\", \"obscene\", \"threat\", \"insult\", \"identity_hate\"]\n",
        "targets = train[classes].values\n",
        "#print(targets)\n",
        "\n",
        "train_sentences = train['comment_text']\n",
        "test_sentences = test['comment_text']"
      ],
      "execution_count": null,
      "outputs": []
    },
    {
      "cell_type": "code",
      "metadata": {
        "trusted": true,
        "id": "FV02CKYDrRD4"
      },
      "source": [
        "max_features = 22000\n",
        "tokenizer = Tokenizer(num_words = max_features)\n",
        "tokenizer.fit_on_texts(list(train_sentences))\n",
        "\n",
        "tokenized_train = tokenizer.texts_to_sequences(train_sentences)\n",
        "tokenized_test = tokenizer.texts_to_sequences(test_sentences)"
      ],
      "execution_count": null,
      "outputs": []
    },
    {
      "cell_type": "code",
      "metadata": {
        "trusted": true,
        "id": "COIymibkrRD5"
      },
      "source": [
        "maxlen = 200\n",
        "X_train = pad_sequences(tokenized_train, maxlen = maxlen)\n",
        "X_test = pad_sequences(tokenized_test, maxlen = maxlen)"
      ],
      "execution_count": null,
      "outputs": []
    },
    {
      "cell_type": "code",
      "metadata": {
        "trusted": true,
        "id": "9YA2Z_mRrRD7"
      },
      "source": [
        "embed_size = 128\n",
        "maxlen = 200\n",
        "max_features = 22000\n",
        "\n",
        "input = Input(shape = (maxlen, ))\n",
        "output_net = Embedding(max_features, embed_size)(input)\n",
        "output_net = LSTM(60, return_sequences=True, name='lstm_layer')(output_net)\n",
        "output_net = GlobalMaxPool1D()(output_net)\n",
        "output_net = Dropout(0.1)(output_net)\n",
        "output_net = Dense(50, activation=\"relu\")(output_net)\n",
        "output_net = Dropout(0.1)(output_net)\n",
        "output_net = Dense(6, activation=\"sigmoid\")(output_net)"
      ],
      "execution_count": null,
      "outputs": []
    },
    {
      "cell_type": "code",
      "metadata": {
        "trusted": true,
        "id": "QQyjJLCIrRD8"
      },
      "source": [
        "model = Model(inputs=input, outputs=output_net)\n",
        "model.compile(\n",
        "    loss='binary_crossentropy',\n",
        "    optimizer='adam',\n",
        "    metrics=['accuracy']\n",
        ")"
      ],
      "execution_count": null,
      "outputs": []
    },
    {
      "cell_type": "code",
      "metadata": {
        "trusted": true,
        "id": "zwZekWjIrRD-"
      },
      "source": [
        "model.summary()"
      ],
      "execution_count": null,
      "outputs": []
    },
    {
      "cell_type": "code",
      "metadata": {
        "trusted": true,
        "id": "J8lnbC4qrRD_"
      },
      "source": [
        "batch_size = 64\n",
        "epochs = 2\n",
        "model.fit(X_train, targets, batch_size=batch_size, epochs=epochs, validation_split=0.1)\n",
        "prediction = model.predict(X_train)\n",
        "print(\"Training Accuracy:\", np.round(roc_auc_score(targets, prediction)*100, 1), \"%\")"
      ],
      "execution_count": null,
      "outputs": []
    },
    {
      "cell_type": "code",
      "metadata": {
        "trusted": true,
        "id": "t0oLPegcrREA"
      },
      "source": [
        "prediction = model.predict(X_test)\n",
        "#prediction"
      ],
      "execution_count": null,
      "outputs": []
    },
    {
      "cell_type": "code",
      "metadata": {
        "id": "WVZJu_Rb33mU"
      },
      "source": [
        "sample = [\"I like meat and milk\",\"Good morning mother fucker\"]\r\n",
        "tokenizers = Tokenizer(num_words = max_features)\r\n",
        "tokenizers.fit_on_texts(list(train_sentences))\r\n",
        "tokenized = tokenizers.texts_to_sequences(sample)\r\n",
        "case = pad_sequences(tokenized, maxlen=200) \r\n",
        "print(case)\r\n",
        "mdl = model.predict(case)\r\n",
        "#print(mdl)\r\n",
        "#print(X_train[0])\r\n",
        "#print(roc_auc_score(targets, prediction))"
      ],
      "execution_count": null,
      "outputs": []
    },
    {
      "cell_type": "code",
      "metadata": {
        "id": "nxgio67xVy-X"
      },
      "source": [
        "#!unzip sample_submission.csv\r\n",
        "#submit = pd.read_csv('/content/sample_submission.csv')\r\n",
        "#submit[classes] = prediction\r\n",
        "#submit.to_csv('/content/sample_submission.csv')\r\n",
        "\r\n",
        "\r\n"
      ],
      "execution_count": null,
      "outputs": []
    }
  ]
}